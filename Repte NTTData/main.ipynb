{
 "cells": [
  {
   "cell_type": "code",
   "execution_count": 2,
   "metadata": {},
   "outputs": [
    {
     "name": "stderr",
     "output_type": "stream",
     "text": [
      "Fontconfig error: Cannot load default config file: No such file: (null)\n"
     ]
    }
   ],
   "source": [
    "import numpy as np \n",
    "import pandas as pd \n",
    "import matplotlib.pyplot as plt"
   ]
  },
  {
   "cell_type": "code",
   "execution_count": 3,
   "metadata": {},
   "outputs": [],
   "source": [
    "def dia_del_any(data):\n",
    "    resultat = data.dt.day + data.dt.month*12\n",
    "    return resultat"
   ]
  },
  {
   "cell_type": "code",
   "execution_count": 4,
   "metadata": {},
   "outputs": [
    {
     "ename": "TypeError",
     "evalue": "Only valid with DatetimeIndex, TimedeltaIndex or PeriodIndex, but got an instance of 'RangeIndex'",
     "output_type": "error",
     "traceback": [
      "\u001b[0;31m---------------------------------------------------------------------------\u001b[0m",
      "\u001b[0;31mTypeError\u001b[0m                                 Traceback (most recent call last)",
      "Cell \u001b[0;32mIn[4], line 17\u001b[0m\n\u001b[1;32m     14\u001b[0m     df \u001b[39m=\u001b[39m df\u001b[39m.\u001b[39mresample(\u001b[39m'\u001b[39m\u001b[39mM\u001b[39m\u001b[39m'\u001b[39m)\u001b[39m.\u001b[39msum()\n\u001b[1;32m     15\u001b[0m     df\u001b[39m.\u001b[39mhead()\n\u001b[0;32m---> 17\u001b[0m netejar_dades()\n",
      "Cell \u001b[0;32mIn[4], line 14\u001b[0m, in \u001b[0;36mnetejar_dades\u001b[0;34m()\u001b[0m\n\u001b[1;32m     12\u001b[0m df[\u001b[39m'\u001b[39m\u001b[39mHOSPITAL_ORIGEN\u001b[39m\u001b[39m'\u001b[39m] \u001b[39m=\u001b[39m df[\u001b[39m'\u001b[39m\u001b[39mORIGEN\u001b[39m\u001b[39m'\u001b[39m]\u001b[39m.\u001b[39mstr[\u001b[39m1\u001b[39m]\n\u001b[1;32m     13\u001b[0m df[\u001b[39m'\u001b[39m\u001b[39mDEPARTAMENT_ORIGEN\u001b[39m\u001b[39m'\u001b[39m] \u001b[39m=\u001b[39m df[\u001b[39m'\u001b[39m\u001b[39mORIGEN\u001b[39m\u001b[39m'\u001b[39m]\u001b[39m.\u001b[39mstr[\u001b[39m2\u001b[39m]\n\u001b[0;32m---> 14\u001b[0m df \u001b[39m=\u001b[39m df\u001b[39m.\u001b[39;49mresample(\u001b[39m'\u001b[39;49m\u001b[39mM\u001b[39;49m\u001b[39m'\u001b[39;49m)\u001b[39m.\u001b[39msum()\n\u001b[1;32m     15\u001b[0m df\u001b[39m.\u001b[39mhead()\n",
      "File \u001b[0;32m/opt/anaconda/lib/python3.10/site-packages/pandas/core/frame.py:11392\u001b[0m, in \u001b[0;36mDataFrame.resample\u001b[0;34m(self, rule, axis, closed, label, convention, kind, loffset, base, on, level, origin, offset, group_keys)\u001b[0m\n\u001b[1;32m  11375\u001b[0m \u001b[39m@doc\u001b[39m(NDFrame\u001b[39m.\u001b[39mresample, \u001b[39m*\u001b[39m\u001b[39m*\u001b[39m_shared_doc_kwargs)\n\u001b[1;32m  11376\u001b[0m \u001b[39mdef\u001b[39;00m \u001b[39mresample\u001b[39m(\n\u001b[1;32m  11377\u001b[0m     \u001b[39mself\u001b[39m,\n\u001b[0;32m   (...)\u001b[0m\n\u001b[1;32m  11390\u001b[0m     group_keys: \u001b[39mbool\u001b[39m \u001b[39m|\u001b[39m lib\u001b[39m.\u001b[39mNoDefault \u001b[39m=\u001b[39m no_default,\n\u001b[1;32m  11391\u001b[0m ) \u001b[39m-\u001b[39m\u001b[39m>\u001b[39m Resampler:\n\u001b[0;32m> 11392\u001b[0m     \u001b[39mreturn\u001b[39;00m \u001b[39msuper\u001b[39;49m()\u001b[39m.\u001b[39;49mresample(\n\u001b[1;32m  11393\u001b[0m         rule\u001b[39m=\u001b[39;49mrule,\n\u001b[1;32m  11394\u001b[0m         axis\u001b[39m=\u001b[39;49maxis,\n\u001b[1;32m  11395\u001b[0m         closed\u001b[39m=\u001b[39;49mclosed,\n\u001b[1;32m  11396\u001b[0m         label\u001b[39m=\u001b[39;49mlabel,\n\u001b[1;32m  11397\u001b[0m         convention\u001b[39m=\u001b[39;49mconvention,\n\u001b[1;32m  11398\u001b[0m         kind\u001b[39m=\u001b[39;49mkind,\n\u001b[1;32m  11399\u001b[0m         loffset\u001b[39m=\u001b[39;49mloffset,\n\u001b[1;32m  11400\u001b[0m         base\u001b[39m=\u001b[39;49mbase,\n\u001b[1;32m  11401\u001b[0m         on\u001b[39m=\u001b[39;49mon,\n\u001b[1;32m  11402\u001b[0m         level\u001b[39m=\u001b[39;49mlevel,\n\u001b[1;32m  11403\u001b[0m         origin\u001b[39m=\u001b[39;49morigin,\n\u001b[1;32m  11404\u001b[0m         offset\u001b[39m=\u001b[39;49moffset,\n\u001b[1;32m  11405\u001b[0m         group_keys\u001b[39m=\u001b[39;49mgroup_keys,\n\u001b[1;32m  11406\u001b[0m     )\n",
      "File \u001b[0;32m/opt/anaconda/lib/python3.10/site-packages/pandas/core/generic.py:8858\u001b[0m, in \u001b[0;36mNDFrame.resample\u001b[0;34m(self, rule, axis, closed, label, convention, kind, loffset, base, on, level, origin, offset, group_keys)\u001b[0m\n\u001b[1;32m   8855\u001b[0m \u001b[39mfrom\u001b[39;00m \u001b[39mpandas\u001b[39;00m\u001b[39m.\u001b[39;00m\u001b[39mcore\u001b[39;00m\u001b[39m.\u001b[39;00m\u001b[39mresample\u001b[39;00m \u001b[39mimport\u001b[39;00m get_resampler\n\u001b[1;32m   8857\u001b[0m axis \u001b[39m=\u001b[39m \u001b[39mself\u001b[39m\u001b[39m.\u001b[39m_get_axis_number(axis)\n\u001b[0;32m-> 8858\u001b[0m \u001b[39mreturn\u001b[39;00m get_resampler(\n\u001b[1;32m   8859\u001b[0m     \u001b[39mself\u001b[39;49m,\n\u001b[1;32m   8860\u001b[0m     freq\u001b[39m=\u001b[39;49mrule,\n\u001b[1;32m   8861\u001b[0m     label\u001b[39m=\u001b[39;49mlabel,\n\u001b[1;32m   8862\u001b[0m     closed\u001b[39m=\u001b[39;49mclosed,\n\u001b[1;32m   8863\u001b[0m     axis\u001b[39m=\u001b[39;49maxis,\n\u001b[1;32m   8864\u001b[0m     kind\u001b[39m=\u001b[39;49mkind,\n\u001b[1;32m   8865\u001b[0m     loffset\u001b[39m=\u001b[39;49mloffset,\n\u001b[1;32m   8866\u001b[0m     convention\u001b[39m=\u001b[39;49mconvention,\n\u001b[1;32m   8867\u001b[0m     base\u001b[39m=\u001b[39;49mbase,\n\u001b[1;32m   8868\u001b[0m     key\u001b[39m=\u001b[39;49mon,\n\u001b[1;32m   8869\u001b[0m     level\u001b[39m=\u001b[39;49mlevel,\n\u001b[1;32m   8870\u001b[0m     origin\u001b[39m=\u001b[39;49morigin,\n\u001b[1;32m   8871\u001b[0m     offset\u001b[39m=\u001b[39;49moffset,\n\u001b[1;32m   8872\u001b[0m     group_keys\u001b[39m=\u001b[39;49mgroup_keys,\n\u001b[1;32m   8873\u001b[0m )\n",
      "File \u001b[0;32m/opt/anaconda/lib/python3.10/site-packages/pandas/core/resample.py:1544\u001b[0m, in \u001b[0;36mget_resampler\u001b[0;34m(obj, kind, **kwds)\u001b[0m\n\u001b[1;32m   1540\u001b[0m \u001b[39m\"\"\"\u001b[39;00m\n\u001b[1;32m   1541\u001b[0m \u001b[39mCreate a TimeGrouper and return our resampler.\u001b[39;00m\n\u001b[1;32m   1542\u001b[0m \u001b[39m\"\"\"\u001b[39;00m\n\u001b[1;32m   1543\u001b[0m tg \u001b[39m=\u001b[39m TimeGrouper(\u001b[39m*\u001b[39m\u001b[39m*\u001b[39mkwds)\n\u001b[0;32m-> 1544\u001b[0m \u001b[39mreturn\u001b[39;00m tg\u001b[39m.\u001b[39;49m_get_resampler(obj, kind\u001b[39m=\u001b[39;49mkind)\n",
      "File \u001b[0;32m/opt/anaconda/lib/python3.10/site-packages/pandas/core/resample.py:1725\u001b[0m, in \u001b[0;36mTimeGrouper._get_resampler\u001b[0;34m(self, obj, kind)\u001b[0m\n\u001b[1;32m   1720\u001b[0m \u001b[39melif\u001b[39;00m \u001b[39misinstance\u001b[39m(ax, TimedeltaIndex):\n\u001b[1;32m   1721\u001b[0m     \u001b[39mreturn\u001b[39;00m TimedeltaIndexResampler(\n\u001b[1;32m   1722\u001b[0m         obj, groupby\u001b[39m=\u001b[39m\u001b[39mself\u001b[39m, axis\u001b[39m=\u001b[39m\u001b[39mself\u001b[39m\u001b[39m.\u001b[39maxis, group_keys\u001b[39m=\u001b[39m\u001b[39mself\u001b[39m\u001b[39m.\u001b[39mgroup_keys\n\u001b[1;32m   1723\u001b[0m     )\n\u001b[0;32m-> 1725\u001b[0m \u001b[39mraise\u001b[39;00m \u001b[39mTypeError\u001b[39;00m(\n\u001b[1;32m   1726\u001b[0m     \u001b[39m\"\u001b[39m\u001b[39mOnly valid with DatetimeIndex, \u001b[39m\u001b[39m\"\u001b[39m\n\u001b[1;32m   1727\u001b[0m     \u001b[39m\"\u001b[39m\u001b[39mTimedeltaIndex or PeriodIndex, \u001b[39m\u001b[39m\"\u001b[39m\n\u001b[1;32m   1728\u001b[0m     \u001b[39mf\u001b[39m\u001b[39m\"\u001b[39m\u001b[39mbut got an instance of \u001b[39m\u001b[39m'\u001b[39m\u001b[39m{\u001b[39;00m\u001b[39mtype\u001b[39m(ax)\u001b[39m.\u001b[39m\u001b[39m__name__\u001b[39m\u001b[39m}\u001b[39;00m\u001b[39m'\u001b[39m\u001b[39m\"\u001b[39m\n\u001b[1;32m   1729\u001b[0m )\n",
      "\u001b[0;31mTypeError\u001b[0m: Only valid with DatetimeIndex, TimedeltaIndex or PeriodIndex, but got an instance of 'RangeIndex'"
     ]
    }
   ],
   "source": [
    "def netejar_dades():\n",
    "\n",
    "    df = pd.read_excel(\"consumo_material_clean.xlsx\")\n",
    "    df.head()\n",
    "    df['NUMERO'] = df['NUMERO'].str.split('/')\n",
    "    df['NUMERO'] = df['NUMERO'].str[0]\n",
    "    df['CATEGORIA'] = df['CODIGO'].str[0]\n",
    "    df['CODIGO'] = df['CODIGO'].str[1::]\n",
    "    df['ANY'] = pd.to_datetime(df['FECHAPEDIDO']).dt.year\n",
    "    df['ORIGEN'] = df['ORIGEN'].str.split('-')\n",
    "    df['REGION_ORIGEN'] = df['ORIGEN'].str[0]\n",
    "    df['HOSPITAL_ORIGEN'] = df['ORIGEN'].str[1]\n",
    "    df['DEPARTAMENT_ORIGEN'] = df['ORIGEN'].str[2]\n",
    "    df.head()\n",
    "\n",
    "netejar_dades()"
   ]
  },
  {
   "cell_type": "code",
   "execution_count": 9,
   "metadata": {},
   "outputs": [
    {
     "data": {
      "text/html": [
       "<div>\n",
       "<style scoped>\n",
       "    .dataframe tbody tr th:only-of-type {\n",
       "        vertical-align: middle;\n",
       "    }\n",
       "\n",
       "    .dataframe tbody tr th {\n",
       "        vertical-align: top;\n",
       "    }\n",
       "\n",
       "    .dataframe thead th {\n",
       "        text-align: right;\n",
       "    }\n",
       "</style>\n",
       "<table border=\"1\" class=\"dataframe\">\n",
       "  <thead>\n",
       "    <tr style=\"text-align: right;\">\n",
       "      <th></th>\n",
       "      <th>CATEGORIA</th>\n",
       "      <th>CANTIDADCOMPRA</th>\n",
       "      <th>FECHAPEDIDO</th>\n",
       "      <th>CODIGO</th>\n",
       "    </tr>\n",
       "  </thead>\n",
       "  <tbody>\n",
       "    <tr>\n",
       "      <th>0</th>\n",
       "      <td>E</td>\n",
       "      <td>60</td>\n",
       "      <td>01/01/23</td>\n",
       "      <td>E99808</td>\n",
       "    </tr>\n",
       "    <tr>\n",
       "      <th>1</th>\n",
       "      <td>B</td>\n",
       "      <td>40</td>\n",
       "      <td>01/02/16</td>\n",
       "      <td>B41691</td>\n",
       "    </tr>\n",
       "    <tr>\n",
       "      <th>2</th>\n",
       "      <td>E</td>\n",
       "      <td>20</td>\n",
       "      <td>01/02/16</td>\n",
       "      <td>E64543</td>\n",
       "    </tr>\n",
       "    <tr>\n",
       "      <th>3</th>\n",
       "      <td>E</td>\n",
       "      <td>100</td>\n",
       "      <td>01/02/16</td>\n",
       "      <td>E65007</td>\n",
       "    </tr>\n",
       "    <tr>\n",
       "      <th>4</th>\n",
       "      <td>E</td>\n",
       "      <td>300</td>\n",
       "      <td>01/02/17</td>\n",
       "      <td>E64911</td>\n",
       "    </tr>\n",
       "  </tbody>\n",
       "</table>\n",
       "</div>"
      ],
      "text/plain": [
       "  CATEGORIA  CANTIDADCOMPRA FECHAPEDIDO  CODIGO\n",
       "0         E              60    01/01/23  E99808\n",
       "1         B              40    01/02/16  B41691\n",
       "2         E              20    01/02/16  E64543\n",
       "3         E             100    01/02/16  E65007\n",
       "4         E             300    01/02/17  E64911"
      ]
     },
     "execution_count": 9,
     "metadata": {},
     "output_type": "execute_result"
    }
   ],
   "source": [
    "df2 = pd.read_excel('consumo_material_clean.xlsx')\n",
    "df2['CATEGORIA'] = df2['CODIGO'].str[0]\n",
    "df2 = df2[['CATEGORIA', 'CANTIDADCOMPRA', 'FECHAPEDIDO', 'CODIGO']]\n",
    "dfA = df2['CATEGORIA'] == 'A'\n",
    "\n",
    "\n",
    "df2.head()"
   ]
  },
  {
   "cell_type": "code",
   "execution_count": null,
   "metadata": {},
   "outputs": [],
   "source": []
  }
 ],
 "metadata": {
  "kernelspec": {
   "display_name": "base",
   "language": "python",
   "name": "python3"
  },
  "language_info": {
   "codemirror_mode": {
    "name": "ipython",
    "version": 3
   },
   "file_extension": ".py",
   "mimetype": "text/x-python",
   "name": "python",
   "nbconvert_exporter": "python",
   "pygments_lexer": "ipython3",
   "version": "3.10.9"
  },
  "orig_nbformat": 4,
  "vscode": {
   "interpreter": {
    "hash": "586ad1ed5c97141e2437e681efbf1ec0adcd17d830cf5af2ca3d2819e743e158"
   }
  }
 },
 "nbformat": 4,
 "nbformat_minor": 2
}
