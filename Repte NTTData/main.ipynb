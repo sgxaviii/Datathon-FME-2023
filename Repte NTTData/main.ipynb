{
 "cells": [
  {
   "cell_type": "code",
   "execution_count": 7,
   "metadata": {},
   "outputs": [],
   "source": [
    "import numpy as np \n",
    "import pandas as pd "
   ]
  },
  {
   "cell_type": "code",
   "execution_count": 8,
   "metadata": {},
   "outputs": [],
   "source": [
    "def dia_del_any(data):\n",
    "    resultat = data.dt.day + data.dt.month*12\n",
    "    return resultat"
   ]
  },
  {
   "cell_type": "code",
   "execution_count": 10,
   "metadata": {},
   "outputs": [],
   "source": [
    "def netejar_dades():\n",
    "\n",
    "    df = pd.read_excel(\"consumo_material_clean.xlsx\")\n",
    "    df.head()\n",
    "    df['NUMERO'] = df['NUMERO'].str.split('/')\n",
    "    df['NUMERO'] = df['NUMERO'].str[0]\n",
    "    df['CATEGORIA'] = df['CODIGO'].str[0]\n",
    "    df['CODIGO'] = df['CODIGO'].str[1::]\n",
    "    df['ANY'] = pd.to_datetime(df['FECHAPEDIDO'], format='mixed').dt.year\n",
    "    df['ORIGEN'] = df['ORIGEN'].str.split('-')\n",
    "    df['REGION_ORIGEN'] = df['ORIGEN'].str[0]\n",
    "    df['HOSPITAL_ORIGEN'] = df['ORIGEN'].str[1]\n",
    "    df['DEPARTAMENT_ORIGEN'] = df['ORIGEN'].str[2]\n",
    "    return df\n",
    "\n",
    "df=netejar_dades() \n",
    "df.head()"
   ]
  }
 ],
 "metadata": {
  "kernelspec": {
   "display_name": "base",
   "language": "python",
   "name": "python3"
  },
  "language_info": {
   "codemirror_mode": {
    "name": "ipython",
    "version": 3
   },
   "file_extension": ".py",
   "mimetype": "text/x-python",
   "name": "python",
   "nbconvert_exporter": "python",
   "pygments_lexer": "ipython3",
   "version": "3.11.5"
  },
  "orig_nbformat": 4,
  "vscode": {
   "interpreter": {
    "hash": "586ad1ed5c97141e2437e681efbf1ec0adcd17d830cf5af2ca3d2819e743e158"
   }
  }
 },
 "nbformat": 4,
 "nbformat_minor": 2
}
