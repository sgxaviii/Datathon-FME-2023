{
 "cells": [
  {
   "cell_type": "code",
   "execution_count": 1,
   "metadata": {},
   "outputs": [],
   "source": [
    "import numpy as np \n",
    "import pandas as pd "
   ]
  },
  {
   "cell_type": "code",
   "execution_count": 17,
   "metadata": {},
   "outputs": [],
   "source": [
    "def dia_del_any(data):\n",
    "    resultat = data.dt.day + data.dt.month*12\n",
    "    return resultat"
   ]
  },
  {
   "cell_type": "code",
   "execution_count": 1,
   "metadata": {},
   "outputs": [
    {
     "ename": "NameError",
     "evalue": "name 'pd' is not defined",
     "output_type": "error",
     "traceback": [
      "\u001b[1;31m---------------------------------------------------------------------------\u001b[0m",
      "\u001b[1;31mNameError\u001b[0m                                 Traceback (most recent call last)",
      "\u001b[1;32mc:\\Users\\mique\\OneDrive\\Documentos\\Datathon-FME-2023\\Repte NTTData\\main.ipynb Cell 3\u001b[0m line \u001b[0;36m1\n\u001b[0;32m     <a href='vscode-notebook-cell:/c%3A/Users/mique/OneDrive/Documentos/Datathon-FME-2023/Repte%20NTTData/main.ipynb#W6sZmlsZQ%3D%3D?line=12'>13</a>\u001b[0m     df[\u001b[39m'\u001b[39m\u001b[39mDEPARTAMENT_ORIGEN\u001b[39m\u001b[39m'\u001b[39m] \u001b[39m=\u001b[39m df[\u001b[39m'\u001b[39m\u001b[39mORIGEN\u001b[39m\u001b[39m'\u001b[39m]\u001b[39m.\u001b[39mstr[\u001b[39m2\u001b[39m]\n\u001b[0;32m     <a href='vscode-notebook-cell:/c%3A/Users/mique/OneDrive/Documentos/Datathon-FME-2023/Repte%20NTTData/main.ipynb#W6sZmlsZQ%3D%3D?line=13'>14</a>\u001b[0m     df\u001b[39m.\u001b[39mhead()\n\u001b[1;32m---> <a href='vscode-notebook-cell:/c%3A/Users/mique/OneDrive/Documentos/Datathon-FME-2023/Repte%20NTTData/main.ipynb#W6sZmlsZQ%3D%3D?line=15'>16</a>\u001b[0m netejar_dades()\n",
      "\u001b[1;32mc:\\Users\\mique\\OneDrive\\Documentos\\Datathon-FME-2023\\Repte NTTData\\main.ipynb Cell 3\u001b[0m line \u001b[0;36m3\n\u001b[0;32m      <a href='vscode-notebook-cell:/c%3A/Users/mique/OneDrive/Documentos/Datathon-FME-2023/Repte%20NTTData/main.ipynb#W6sZmlsZQ%3D%3D?line=0'>1</a>\u001b[0m \u001b[39mdef\u001b[39;00m \u001b[39mnetejar_dades\u001b[39m():\n\u001b[1;32m----> <a href='vscode-notebook-cell:/c%3A/Users/mique/OneDrive/Documentos/Datathon-FME-2023/Repte%20NTTData/main.ipynb#W6sZmlsZQ%3D%3D?line=2'>3</a>\u001b[0m     df \u001b[39m=\u001b[39m pd\u001b[39m.\u001b[39mread_excel(\u001b[39m\"\u001b[39m\u001b[39mconsumo_material_clean.xlsx\u001b[39m\u001b[39m\"\u001b[39m)\n\u001b[0;32m      <a href='vscode-notebook-cell:/c%3A/Users/mique/OneDrive/Documentos/Datathon-FME-2023/Repte%20NTTData/main.ipynb#W6sZmlsZQ%3D%3D?line=3'>4</a>\u001b[0m     df\u001b[39m.\u001b[39mhead()\n\u001b[0;32m      <a href='vscode-notebook-cell:/c%3A/Users/mique/OneDrive/Documentos/Datathon-FME-2023/Repte%20NTTData/main.ipynb#W6sZmlsZQ%3D%3D?line=4'>5</a>\u001b[0m     df[\u001b[39m'\u001b[39m\u001b[39mNUMERO\u001b[39m\u001b[39m'\u001b[39m] \u001b[39m=\u001b[39m df[\u001b[39m'\u001b[39m\u001b[39mNUMERO\u001b[39m\u001b[39m'\u001b[39m]\u001b[39m.\u001b[39mstr\u001b[39m.\u001b[39msplit(\u001b[39m'\u001b[39m\u001b[39m/\u001b[39m\u001b[39m'\u001b[39m)\n",
      "\u001b[1;31mNameError\u001b[0m: name 'pd' is not defined"
     ]
    }
   ],
   "source": [
    "def netejar_dades():\n",
    "\n",
    "    df = pd.read_excel(\"consumo_material_clean.xlsx\")\n",
    "    df.head()\n",
    "    df['NUMERO'] = df['NUMERO'].str.split('/')\n",
    "    df['NUMERO'] = df['NUMERO'].str[0]\n",
    "    df['CATEGORIA'] = df['CODIGO'].str[0]\n",
    "    df['CODIGO'] = df['CODIGO'].str[1::]\n",
    "    df['ANY'] = pd.to_datetime(df['FECHAPEDIDO']).dt.year\n",
    "    df['ORIGEN'] = df['ORIGEN'].str.split('-')\n",
    "    df['REGION_ORIGEN'] = df['ORIGEN'].str[0]\n",
    "    df['HOSPITAL_ORIGEN'] = df['ORIGEN'].str[1]\n",
    "    df['DEPARTAMENT_ORIGEN'] = df['ORIGEN'].str[2]\n",
    "    df.head()\n",
    "\n",
    "netejar_dades()"
   ]
  }
 ],
 "metadata": {
  "kernelspec": {
   "display_name": "base",
   "language": "python",
   "name": "python3"
  },
  "language_info": {
   "codemirror_mode": {
    "name": "ipython",
    "version": 3
   },
   "file_extension": ".py",
   "mimetype": "text/x-python",
   "name": "python",
   "nbconvert_exporter": "python",
   "pygments_lexer": "ipython3",
   "version": "3.11.6"
  },
  "orig_nbformat": 4,
  "vscode": {
   "interpreter": {
    "hash": "586ad1ed5c97141e2437e681efbf1ec0adcd17d830cf5af2ca3d2819e743e158"
   }
  }
 },
 "nbformat": 4,
 "nbformat_minor": 2
}
